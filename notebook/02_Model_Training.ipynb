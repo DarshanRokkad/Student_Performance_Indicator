{
 "cells": [
  {
   "cell_type": "markdown",
   "id": "253180ed",
   "metadata": {},
   "source": [
    "# <font color = 'orange'> Model Training"
   ]
  },
  {
   "cell_type": "markdown",
   "id": "b86ab75c",
   "metadata": {},
   "source": [
    "---"
   ]
  },
  {
   "cell_type": "markdown",
   "id": "7bcaa406",
   "metadata": {},
   "source": [
    "## <font color='blue'> 1. Imporing libraries and loading dataset"
   ]
  },
  {
   "cell_type": "code",
   "execution_count": 1,
   "id": "9c831500",
   "metadata": {},
   "outputs": [],
   "source": [
    "# importing libraries \n",
    "\n",
    "import numpy as np\n",
    "import pandas as pd\n",
    "import matplotlib.pyplot as plt\n",
    "import seaborn as sns"
   ]
  },
  {
   "cell_type": "code",
   "execution_count": 2,
   "id": "e3e3938d",
   "metadata": {},
   "outputs": [
    {
     "data": {
      "text/html": [
       "<div>\n",
       "<style scoped>\n",
       "    .dataframe tbody tr th:only-of-type {\n",
       "        vertical-align: middle;\n",
       "    }\n",
       "\n",
       "    .dataframe tbody tr th {\n",
       "        vertical-align: top;\n",
       "    }\n",
       "\n",
       "    .dataframe thead th {\n",
       "        text-align: right;\n",
       "    }\n",
       "</style>\n",
       "<table border=\"1\" class=\"dataframe\">\n",
       "  <thead>\n",
       "    <tr style=\"text-align: right;\">\n",
       "      <th></th>\n",
       "      <th>gender</th>\n",
       "      <th>race_ethnicity</th>\n",
       "      <th>parental_level_of_education</th>\n",
       "      <th>lunch</th>\n",
       "      <th>test_preparation_course</th>\n",
       "      <th>math_score</th>\n",
       "      <th>reading_score</th>\n",
       "      <th>writing_score</th>\n",
       "    </tr>\n",
       "  </thead>\n",
       "  <tbody>\n",
       "    <tr>\n",
       "      <th>0</th>\n",
       "      <td>female</td>\n",
       "      <td>group B</td>\n",
       "      <td>bachelor's degree</td>\n",
       "      <td>standard</td>\n",
       "      <td>none</td>\n",
       "      <td>72</td>\n",
       "      <td>72</td>\n",
       "      <td>74</td>\n",
       "    </tr>\n",
       "    <tr>\n",
       "      <th>1</th>\n",
       "      <td>female</td>\n",
       "      <td>group C</td>\n",
       "      <td>some college</td>\n",
       "      <td>standard</td>\n",
       "      <td>completed</td>\n",
       "      <td>69</td>\n",
       "      <td>90</td>\n",
       "      <td>88</td>\n",
       "    </tr>\n",
       "    <tr>\n",
       "      <th>2</th>\n",
       "      <td>female</td>\n",
       "      <td>group B</td>\n",
       "      <td>master's degree</td>\n",
       "      <td>standard</td>\n",
       "      <td>none</td>\n",
       "      <td>90</td>\n",
       "      <td>95</td>\n",
       "      <td>93</td>\n",
       "    </tr>\n",
       "    <tr>\n",
       "      <th>3</th>\n",
       "      <td>male</td>\n",
       "      <td>group A</td>\n",
       "      <td>associate's degree</td>\n",
       "      <td>free/reduced</td>\n",
       "      <td>none</td>\n",
       "      <td>47</td>\n",
       "      <td>57</td>\n",
       "      <td>44</td>\n",
       "    </tr>\n",
       "    <tr>\n",
       "      <th>4</th>\n",
       "      <td>male</td>\n",
       "      <td>group C</td>\n",
       "      <td>some college</td>\n",
       "      <td>standard</td>\n",
       "      <td>none</td>\n",
       "      <td>76</td>\n",
       "      <td>78</td>\n",
       "      <td>75</td>\n",
       "    </tr>\n",
       "  </tbody>\n",
       "</table>\n",
       "</div>"
      ],
      "text/plain": [
       "   gender race_ethnicity parental_level_of_education         lunch  \\\n",
       "0  female        group B           bachelor's degree      standard   \n",
       "1  female        group C                some college      standard   \n",
       "2  female        group B             master's degree      standard   \n",
       "3    male        group A          associate's degree  free/reduced   \n",
       "4    male        group C                some college      standard   \n",
       "\n",
       "  test_preparation_course  math_score  reading_score  writing_score  \n",
       "0                    none          72             72             74  \n",
       "1               completed          69             90             88  \n",
       "2                    none          90             95             93  \n",
       "3                    none          47             57             44  \n",
       "4                    none          76             78             75  "
      ]
     },
     "execution_count": 2,
     "metadata": {},
     "output_type": "execute_result"
    }
   ],
   "source": [
    "# loading dataset\n",
    "\n",
    "df = pd.read_csv('data/stud.csv')\n",
    "df.head()"
   ]
  },
  {
   "cell_type": "markdown",
   "id": "0e0065e8",
   "metadata": {},
   "source": [
    "---"
   ]
  },
  {
   "cell_type": "markdown",
   "id": "e5bf6e90",
   "metadata": {},
   "source": [
    "## <font color='blue'> 2. Separating independent and dependent features."
   ]
  },
  {
   "cell_type": "code",
   "execution_count": 3,
   "id": "be0eb136",
   "metadata": {},
   "outputs": [],
   "source": [
    "# independent features\n",
    "x = df.drop('math_score', axis = 1)\n",
    "\n",
    "# dependent feature\n",
    "y = df['math_score']"
   ]
  },
  {
   "cell_type": "markdown",
   "id": "39b7df51",
   "metadata": {},
   "source": [
    "---"
   ]
  },
  {
   "cell_type": "markdown",
   "id": "c2b2e0d5",
   "metadata": {},
   "source": [
    "## <font color='blue'> 3. Feature Engineering.\n",
    "- Create column transformer with 2 types of transformers.\n",
    "1. for categorical feature to do one hot encoding.\n",
    "2. for numerical feature to do standard scaling."
   ]
  },
  {
   "cell_type": "code",
   "execution_count": 4,
   "id": "ba864aeb",
   "metadata": {},
   "outputs": [],
   "source": [
    "# creating numerical feature and categorical feature list \n",
    "numerical_features = [feature for feature in x.columns if x[feature].dtype != 'O']\n",
    "categorical_features = [feature for feature in x.columns if x[feature].dtype == 'O']\n",
    "\n",
    "from sklearn.preprocessing import OneHotEncoder, StandardScaler\n",
    "from sklearn.compose import ColumnTransformer\n",
    "\n",
    "# creating transformer for numerical and categorical feature\n",
    "numerical_transformer = StandardScaler()\n",
    "categorical_transformer = OneHotEncoder()\n",
    "\n",
    "# create a pipeline transformer\n",
    "preprocessor = ColumnTransformer(\n",
    "    [\n",
    "        ('Standard Scaling', numerical_transformer, numerical_features),\n",
    "        ('One Hot Encoding', categorical_transformer, categorical_features)\n",
    "    ]\n",
    ")"
   ]
  },
  {
   "cell_type": "code",
   "execution_count": 5,
   "id": "68ae8a7c",
   "metadata": {},
   "outputs": [],
   "source": [
    "# using preprocessor column transformer to transform data into respective data type\n",
    "\n",
    "x = preprocessor.fit_transform(x)"
   ]
  },
  {
   "cell_type": "code",
   "execution_count": 6,
   "id": "cbc2d22f",
   "metadata": {},
   "outputs": [
    {
     "data": {
      "text/plain": [
       "(1000, 19)"
      ]
     },
     "execution_count": 6,
     "metadata": {},
     "output_type": "execute_result"
    }
   ],
   "source": [
    "x.shape"
   ]
  },
  {
   "cell_type": "markdown",
   "id": "4673fab0",
   "metadata": {},
   "source": [
    "---"
   ]
  },
  {
   "cell_type": "markdown",
   "id": "1ab9f3cd",
   "metadata": {},
   "source": [
    "## <font color='blue'> 4. Train Test Split"
   ]
  },
  {
   "cell_type": "code",
   "execution_count": 7,
   "id": "3cee685b",
   "metadata": {},
   "outputs": [],
   "source": [
    "from sklearn.model_selection import train_test_split\n",
    "\n",
    "x_train, x_test, y_train, y_test = train_test_split(x, y, test_size = 0.2, random_state = 42)"
   ]
  },
  {
   "cell_type": "markdown",
   "id": "e4300521",
   "metadata": {},
   "source": [
    "---"
   ]
  },
  {
   "cell_type": "markdown",
   "id": "34cbb873",
   "metadata": {},
   "source": [
    "## <font color='blue'> 5. Model training using different algorithm and model evaluation"
   ]
  },
  {
   "cell_type": "code",
   "execution_count": 8,
   "id": "c4daa62c",
   "metadata": {},
   "outputs": [],
   "source": [
    "# importing libraries for model training\n",
    "from sklearn.neighbors import KNeighborsRegressor\n",
    "from sklearn.tree import DecisionTreeRegressor\n",
    "from sklearn.ensemble import RandomForestRegressor,AdaBoostRegressor\n",
    "from sklearn.svm import SVR\n",
    "from sklearn.linear_model import LinearRegression, Ridge,Lasso\n",
    "from sklearn.model_selection import RandomizedSearchCV\n",
    "from catboost import CatBoostRegressor\n",
    "\n",
    "# adding ignore warning msg\n",
    "from warnings import filterwarnings\n",
    "filterwarnings('ignore')"
   ]
  },
  {
   "cell_type": "code",
   "execution_count": 9,
   "id": "7ab326fe",
   "metadata": {},
   "outputs": [],
   "source": [
    "# creating all models as dictionary \n",
    "models = {\n",
    "    \"Linear Regression\": LinearRegression(),\n",
    "    \"Lasso\": Lasso(),\n",
    "    \"Ridge\": Ridge(),\n",
    "    \"K-Neighbors Regressor\": KNeighborsRegressor(),\n",
    "    \"Decision Tree\": DecisionTreeRegressor(),\n",
    "    \"Random Forest Regressor\": RandomForestRegressor(),\n",
    "    \"CatBoosting Regressor\": CatBoostRegressor(verbose=False),\n",
    "    \"AdaBoost Regressor\": AdaBoostRegressor()\n",
    "}"
   ]
  },
  {
   "cell_type": "code",
   "execution_count": 10,
   "id": "c48d51b5",
   "metadata": {},
   "outputs": [],
   "source": [
    "# importing librires for evaluating model\n",
    "from sklearn.metrics import mean_squared_error, mean_absolute_error, r2_score\n",
    "import math\n",
    "\n",
    "# function to evaluate the model\n",
    "def evaluate_model(actual, predicted):\n",
    "    mae = mean_absolute_error(actual, predicted)\n",
    "    mse = mean_squared_error(actual, predicted)\n",
    "    rmse = math.sqrt(mse)\n",
    "    r2_sco = r2_score(actual, predicted)\n",
    "    return mae, rmse, r2_sco"
   ]
  },
  {
   "cell_type": "code",
   "execution_count": 11,
   "id": "cc6a73c4",
   "metadata": {},
   "outputs": [
    {
     "name": "stdout",
     "output_type": "stream",
     "text": [
      "Model performance for test data\n",
      "-- Mean Absolute Error = 4.214763142474851\n",
      "-- Root Mean Square Error = 5.393993869732843\n",
      "-- R2 Score = 0.8804332983749565\n",
      "------------------------------------------\n",
      "\n",
      "\n",
      "Model performance for test data\n",
      "-- Mean Absolute Error = 5.157879138921817\n",
      "-- Root Mean Square Error = 6.519688056285626\n",
      "-- R2 Score = 0.825320079562973\n",
      "------------------------------------------\n",
      "\n",
      "\n",
      "Model performance for test data\n",
      "-- Mean Absolute Error = 4.211100688014259\n",
      "-- Root Mean Square Error = 5.390387016935637\n",
      "-- R2 Score = 0.8805931485028738\n",
      "------------------------------------------\n",
      "\n",
      "\n",
      "Model performance for test data\n",
      "-- Mean Absolute Error = 5.619\n",
      "-- Root Mean Square Error = 7.253757646902741\n",
      "-- R2 Score = 0.7837702557426202\n",
      "------------------------------------------\n",
      "\n",
      "\n",
      "Model performance for test data\n",
      "-- Mean Absolute Error = 6.025\n",
      "-- Root Mean Square Error = 7.591113225344488\n",
      "-- R2 Score = 0.7631898623480716\n",
      "------------------------------------------\n",
      "\n",
      "\n",
      "Model performance for test data\n",
      "-- Mean Absolute Error = 4.727479166666667\n",
      "-- Root Mean Square Error = 6.092808524137744\n",
      "-- R2 Score = 0.8474457146434531\n",
      "------------------------------------------\n",
      "\n",
      "\n",
      "Model performance for test data\n",
      "-- Mean Absolute Error = 4.612531714976557\n",
      "-- Root Mean Square Error = 6.008631956907363\n",
      "-- R2 Score = 0.8516318920747058\n",
      "------------------------------------------\n",
      "\n",
      "\n",
      "Model performance for test data\n",
      "-- Mean Absolute Error = 4.676055698129197\n",
      "-- Root Mean Square Error = 6.0748626796858565\n",
      "-- R2 Score = 0.8483430622662103\n",
      "------------------------------------------\n",
      "\n",
      "\n"
     ]
    }
   ],
   "source": [
    "# training all models and calculating error\n",
    "\n",
    "model_r2_scores = []\n",
    "\n",
    "for model in models.values():\n",
    "    \n",
    "    # model training\n",
    "    model.fit(x_train, y_train)\n",
    "    \n",
    "    # prediction\n",
    "    y_pred = model.predict(x_test)\n",
    "    \n",
    "    # error calculation\n",
    "    mae, rmse, r2_sco = evaluate_model(y_test, y_pred)\n",
    "    model_r2_scores.append(r2_sco)\n",
    "    \n",
    "    # displaying the error of the models\n",
    "    print('Model performance for test data')\n",
    "    print(f'-- Mean Absolute Error = {mae}')\n",
    "    print(f'-- Root Mean Square Error = {rmse}')\n",
    "    print(f'-- R2 Score = {r2_sco}')\n",
    "    print('------------------------------------------')\n",
    "    print('\\n')"
   ]
  },
  {
   "cell_type": "markdown",
   "id": "8b03a633",
   "metadata": {},
   "source": [
    "---"
   ]
  },
  {
   "cell_type": "markdown",
   "id": "573b1bdf",
   "metadata": {},
   "source": [
    "## <font color='blue'> 6. Model selection"
   ]
  },
  {
   "cell_type": "code",
   "execution_count": 12,
   "id": "973f3ea7",
   "metadata": {},
   "outputs": [
    {
     "data": {
      "text/html": [
       "<div>\n",
       "<style scoped>\n",
       "    .dataframe tbody tr th:only-of-type {\n",
       "        vertical-align: middle;\n",
       "    }\n",
       "\n",
       "    .dataframe tbody tr th {\n",
       "        vertical-align: top;\n",
       "    }\n",
       "\n",
       "    .dataframe thead th {\n",
       "        text-align: right;\n",
       "    }\n",
       "</style>\n",
       "<table border=\"1\" class=\"dataframe\">\n",
       "  <thead>\n",
       "    <tr style=\"text-align: right;\">\n",
       "      <th></th>\n",
       "      <th>Model Name</th>\n",
       "      <th>R2_Score</th>\n",
       "    </tr>\n",
       "  </thead>\n",
       "  <tbody>\n",
       "    <tr>\n",
       "      <th>2</th>\n",
       "      <td>Ridge</td>\n",
       "      <td>0.880593</td>\n",
       "    </tr>\n",
       "    <tr>\n",
       "      <th>0</th>\n",
       "      <td>Linear Regression</td>\n",
       "      <td>0.880433</td>\n",
       "    </tr>\n",
       "    <tr>\n",
       "      <th>6</th>\n",
       "      <td>CatBoosting Regressor</td>\n",
       "      <td>0.851632</td>\n",
       "    </tr>\n",
       "    <tr>\n",
       "      <th>7</th>\n",
       "      <td>AdaBoost Regressor</td>\n",
       "      <td>0.848343</td>\n",
       "    </tr>\n",
       "    <tr>\n",
       "      <th>5</th>\n",
       "      <td>Random Forest Regressor</td>\n",
       "      <td>0.847446</td>\n",
       "    </tr>\n",
       "    <tr>\n",
       "      <th>1</th>\n",
       "      <td>Lasso</td>\n",
       "      <td>0.825320</td>\n",
       "    </tr>\n",
       "    <tr>\n",
       "      <th>3</th>\n",
       "      <td>K-Neighbors Regressor</td>\n",
       "      <td>0.783770</td>\n",
       "    </tr>\n",
       "    <tr>\n",
       "      <th>4</th>\n",
       "      <td>Decision Tree</td>\n",
       "      <td>0.763190</td>\n",
       "    </tr>\n",
       "  </tbody>\n",
       "</table>\n",
       "</div>"
      ],
      "text/plain": [
       "                Model Name  R2_Score\n",
       "2                    Ridge  0.880593\n",
       "0        Linear Regression  0.880433\n",
       "6    CatBoosting Regressor  0.851632\n",
       "7       AdaBoost Regressor  0.848343\n",
       "5  Random Forest Regressor  0.847446\n",
       "1                    Lasso  0.825320\n",
       "3    K-Neighbors Regressor  0.783770\n",
       "4            Decision Tree  0.763190"
      ]
     },
     "execution_count": 12,
     "metadata": {},
     "output_type": "execute_result"
    }
   ],
   "source": [
    "pd.DataFrame(list(zip(models.keys(), model_r2_scores)), columns=['Model Name', 'R2_Score']).sort_values(by=[\"R2_Score\"],ascending=False)"
   ]
  },
  {
   "cell_type": "markdown",
   "id": "72a9a25a",
   "metadata": {},
   "source": [
    "#### <font color='voilet'> Observation:\n",
    "* As linear regression as best score so we use linear regression to train model."
   ]
  },
  {
   "cell_type": "markdown",
   "id": "b4a1eab0",
   "metadata": {},
   "source": [
    "---"
   ]
  },
  {
   "cell_type": "markdown",
   "id": "3e418411",
   "metadata": {},
   "source": [
    "## <font color='blue'> 7. Model Training using Linear Regression"
   ]
  },
  {
   "cell_type": "code",
   "execution_count": 13,
   "id": "ec52ab71",
   "metadata": {},
   "outputs": [
    {
     "name": "stdout",
     "output_type": "stream",
     "text": [
      "Accuracy of the model is 88.04\n"
     ]
    }
   ],
   "source": [
    "linear_regressor = LinearRegression(fit_intercept = True)\n",
    "\n",
    "# model training\n",
    "linear_regressor.fit(x_train, y_train)\n",
    "\n",
    "# prediction\n",
    "y_pred = linear_regressor.predict(x_test)\n",
    "\n",
    "# score\n",
    "score = r2_score(y_test, y_pred) * 100\n",
    "print(f'Accuracy of the model is {round(score, 2)}')"
   ]
  },
  {
   "cell_type": "code",
   "execution_count": 14,
   "id": "074d3708",
   "metadata": {},
   "outputs": [
    {
     "data": {
      "image/png": "[encoded data removed]",
      "text/plain": [
       "<Figure size 640x480 with 1 Axes>"
      ]
     },
     "metadata": {},
     "output_type": "display_data"
    }
   ],
   "source": [
    "# assumption 1 : scatter plot for actual and prediction should be linear\n",
    "\n",
    "sns.regplot(x = y_test, y = y_pred)\n",
    "\n",
    "plt.xlabel('Actual')\n",
    "plt.ylabel('Prediction')\n",
    "plt.show()"
   ]
  },
  {
   "cell_type": "markdown",
   "id": "a41d0da7",
   "metadata": {},
   "source": [
    "#### <font color='voilet'> Observation:\n",
    "* As we can see plot is linear so model is performing better i.e prediction done by model are better."
   ]
  },
  {
   "cell_type": "markdown",
   "id": "6b5764a9",
   "metadata": {},
   "source": [
    "---"
   ]
  }
 ],
 "metadata": {
  "kernelspec": {
   "display_name": "Python 3 (ipykernel)",
   "language": "python",
   "name": "python3"
  },
  "language_info": {
   "codemirror_mode": {
    "name": "ipython",
    "version": 3
   },
   "file_extension": ".py",
   "mimetype": "text/x-python",
   "name": "python",
   "nbconvert_exporter": "python",
   "pygments_lexer": "ipython3",
   "version": "3.8.0"
  }
 },
 "nbformat": 4,
 "nbformat_minor": 5
}
